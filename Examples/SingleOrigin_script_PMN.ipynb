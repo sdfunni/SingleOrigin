{
 "cells": [
  {
   "cell_type": "code",
   "execution_count": 1,
   "id": "c554e193-523e-455b-9d22-ec37546d7b6d",
   "metadata": {},
   "outputs": [],
   "source": [
    "%matplotlib qt\n",
    "import SingleOrigin as so\n",
    "import numpy as np\n",
    "import pandas as pd\n",
    "import tqdm\n",
    "from matplotlib import pyplot as plt\n",
    "from matplotlib.patches import Ellipse\n",
    "from matplotlib import colors as colors\n",
    "import matplotlib as mpl\n",
    "from matplotlib_scalebar.scalebar import ScaleBar\n",
    "import PyQt5\n",
    "from scipy import ndimage"
   ]
  },
  {
   "cell_type": "markdown",
   "id": "e3438efe-74dd-4c70-812d-33a7e6364222",
   "metadata": {},
   "source": [
    "First we designate the zone axis for the image and two in-plane basis vectors"
   ]
  },
  {
   "cell_type": "code",
   "execution_count": 3,
   "id": "2a7eb607-4ca3-42ab-ad6d-6b585ffe1d2b",
   "metadata": {},
   "outputs": [],
   "source": [
    "za = [1,1,0]          #Zone Axis direction\n",
    "a1 = [-1,1,0]         #Apparent horizontal axis in projection\n",
    "a2 = [0,0,1]          #Most vertical axis in projection"
   ]
  },
  {
   "cell_type": "markdown",
   "id": "99d51fe9-7c65-48f5-90a0-b96d82a344f5",
   "metadata": {},
   "source": [
    "Next we load a .cif file to build a projected unit cell template for the image we will analyze."
   ]
  },
  {
   "cell_type": "code",
   "execution_count": 4,
   "id": "bb907b20-c55e-46cf-99e4-c41e437d7833",
   "metadata": {},
   "outputs": [
    {
     "name": "stdout",
     "output_type": "stream",
     "text": [
      "transformed lattice parameters: \n",
      " a1:     5.557 \n",
      " a2:     5.557 \n",
      " a3:     3.9267 \n",
      " alpha:  90.0 \n",
      " beta:   90.0 \n",
      " gamma:  90.0 \n",
      "\n",
      "Distances (in Angstroms) being combined...\n",
      "0.0\n"
     ]
    }
   ],
   "source": [
    "uc = so.UnitCell()\n",
    "\n",
    "uc.transform_basis(za, a1, a2)\n",
    "\n",
    "\"\"\"Project Unit Cell to 2D and combine coincident/proximate columns\"\"\"\n",
    "uc.project_uc_2d(proj_axis = 0, ignore_elements = []) \n",
    "\n",
    "uc.combine_prox_cols(toler = 1e-2)\n",
    "uc.at_cols.loc[:, 'LatticeSite'] = ['B', 'O', 'A']\n",
    "\n",
    "uc.plot_unit_cell(label_by='LatticeSite')\n",
    "sites = sorted(uc.at_cols.loc[:, 'LatticeSite'].to_list())"
   ]
  },
  {
   "cell_type": "markdown",
   "id": "85c1b9a3-e9d7-4263-948c-5cceb551b45b",
   "metadata": {},
   "source": [
    "We import the image and any associated metadata"
   ]
  },
  {
   "cell_type": "code",
   "execution_count": 6,
   "id": "dd46ac9f-4b84-41e2-9bf9-b6cc569c4aa4",
   "metadata": {},
   "outputs": [],
   "source": [
    "image, metadata = so.import_image(display_image=True)"
   ]
  },
  {
   "cell_type": "markdown",
   "id": "9e9b9f04-de02-4b1e-a7fd-b39057d0bc9a",
   "metadata": {},
   "source": [
    "Create an AtomicColumnLattice object using the unit cell projection we built and and the image we want to analize. We will then perform various operations on this object to locate the atomic columns and visualize the results. All the resulting data will be held within the object."
   ]
  },
  {
   "cell_type": "code",
   "execution_count": 7,
   "id": "9b18df2f-68b8-4328-8399-4b380812871d",
   "metadata": {},
   "outputs": [],
   "source": [
    "acl = so.AtomicColumnLattice(image, uc, probe_fwhm=0.8,\n",
    "                             xlim=None, ylim=None)"
   ]
  },
  {
   "cell_type": "markdown",
   "id": "e00810d3-0144-4b2e-a83a-0dd1ad0bac5f",
   "metadata": {},
   "source": [
    "The first operation we perform is to find basis vectors by using the FFT. To do this you must select two reciprocal lattice points (spots in the FFT) corresponding to the basis vectors you specified in cell 3 as \"a1\" and \"a2\". These must be picked in the correct order (i.e. \"a1\" then \"a2\"). If the spots are not present or weak, select higher order spots (e.g. if \"a2\" is the [001] direction but the 001 spot is a forbidden reflection, so you should specify \"a2_order=2\" in the following function and select an 002 spot in the FFT.) In this example [110] and [001] are both allowed reflections and can be easily located in the FFT."
   ]
  },
  {
   "cell_type": "code",
   "execution_count": 8,
   "id": "6209203d-4ea1-43a1-abe8-bf15e92c352e",
   "metadata": {},
   "outputs": [
    {
     "name": "stdout",
     "output_type": "stream",
     "text": [
      "done selecting \n",
      "\n"
     ]
    }
   ],
   "source": [
    "acl.fft_get_basis_vect(a1_order=1, a2_order=1, sigma=2)"
   ]
  },
  {
   "cell_type": "code",
   "execution_count": null,
   "id": "d13c0d1f-2c92-4e20-9a75-5b4fb8239284",
   "metadata": {},
   "outputs": [],
   "source": []
  }
 ],
 "metadata": {
  "kernelspec": {
   "display_name": "Python 3 (ipykernel)",
   "language": "python",
   "name": "python3"
  },
  "language_info": {
   "codemirror_mode": {
    "name": "ipython",
    "version": 3
   },
   "file_extension": ".py",
   "mimetype": "text/x-python",
   "name": "python",
   "nbconvert_exporter": "python",
   "pygments_lexer": "ipython3",
   "version": "3.9.7"
  }
 },
 "nbformat": 4,
 "nbformat_minor": 5
}
